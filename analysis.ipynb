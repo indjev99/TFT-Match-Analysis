{
 "cells": [
  {
   "cell_type": "code",
   "execution_count": null,
   "metadata": {},
   "outputs": [],
   "source": [
    "import os\n",
    "import sys\n",
    "import glob\n",
    "import json\n",
    "import pickle"
   ]
  },
  {
   "cell_type": "code",
   "execution_count": null,
   "metadata": {},
   "outputs": [],
   "source": [
    "DESCR_UNITS = 'descr/tft-champion.json'\n",
    "DESCR_ITEMS = 'descr/tft-item.json'\n",
    "DESCR_TRAITS = 'descr/tft-trait.json'\n",
    "DESCR_AUGMENTS = 'descr/tft-augments.json'\n",
    "\n",
    "MATCH_DIR = 'data/match/'\n",
    "PLAYER_DIR = 'data/player/'\n",
    "\n",
    "STATS_DIR = 'stats/'"
   ]
  },
  {
   "cell_type": "code",
   "execution_count": null,
   "metadata": {},
   "outputs": [],
   "source": [
    "def stats_path(*names):\n",
    "    assert len(names) > 0\n",
    "    if len(names) == 1 and isinstance(names[0], tuple):\n",
    "        names = names[0]\n",
    "    names = list(names)\n",
    "    names[-1] = f'{names[-1]}.txt'\n",
    "    os.makedirs(os.path.join(STATS_DIR, *names[:-1]), exist_ok=True)\n",
    "    return os.path.join(STATS_DIR, *names)"
   ]
  },
  {
   "cell_type": "code",
   "execution_count": null,
   "metadata": {},
   "outputs": [],
   "source": [
    "unit_id_name = {}\n",
    "item_id_name = {}\n",
    "trait_id_name = {}\n",
    "augment_id_name = {}\n",
    "\n",
    "units_list = []\n",
    "items_list = []\n",
    "traits_list = []\n",
    "augments_list = []\n",
    "\n",
    "path_id_name_list_triples = [\n",
    "    (DESCR_UNITS, unit_id_name, units_list),\n",
    "    (DESCR_ITEMS, item_id_name, items_list),\n",
    "    (DESCR_TRAITS, trait_id_name, traits_list),\n",
    "    (DESCR_AUGMENTS, augment_id_name, augments_list)\n",
    "]\n",
    "\n",
    "for path, id_name, _ in path_id_name_list_triples:\n",
    "    with open(path, 'r') as file:\n",
    "        descrs = json.load(file)\n",
    "    for descr_data in descrs['data'].values():\n",
    "        name = descr_data['name'].removesuffix('<br>')\n",
    "        if name == 'Ryze':\n",
    "            namesuf = descr_data['id'].removeprefix('TFT9_Ryze')\n",
    "            if namesuf != '':\n",
    "                name += ' ' + namesuf\n",
    "        if name == '':\n",
    "            name = descr_data['id']\n",
    "        id_name[descr_data['id']] = name\n",
    "\n",
    "unit_id_name['TFT9_THex'] = 'THex'\n",
    "unit_id_name['TFT9_HeimerdingerTurret'] = 'Heimerdinger Turret'\n",
    "\n",
    "for _, id_name, name_list in path_id_name_list_triples:\n",
    "    id_name_items = list(id_name.items())\n",
    "    for iid, name in id_name_items:\n",
    "        if name not in name_list:\n",
    "            name_list.append(name)\n",
    "        id_name[str.upper(iid)] = name\n",
    "        id_name[str.lower(iid)] = name"
   ]
  },
  {
   "cell_type": "code",
   "execution_count": null,
   "metadata": {},
   "outputs": [],
   "source": [
    "def sanitize_board(board):\n",
    "    augments = [\n",
    "        augment_id_name[augment]\n",
    "        for augment in board['augments']\n",
    "    ]\n",
    "\n",
    "    traits = {\n",
    "        trait_id_name[trait['name']] : trait['tier_current']\n",
    "        for trait in board['traits'] if trait['tier_current'] > 0\n",
    "    }\n",
    "\n",
    "    def sanitize_items(items_raw):\n",
    "        items = [item_id_name[item] for item in items_raw]\n",
    "        tg_items = ['Thief\\'s Gloves', 'Rascal\\'s Gloves', 'Blacksmith\\'s Gloves']\n",
    "        if len(items) > 0 and items[0] in tg_items:\n",
    "            return [items[0]]\n",
    "        if 'TFT_Item_EmptyBag' in items:\n",
    "            print(items_raw)\n",
    "        return items\n",
    "\n",
    "    units = [ {\n",
    "            'name' : unit_id_name[unit['character_id']],\n",
    "            'tier' : unit['tier'],\n",
    "            'items' : sanitize_items(unit['itemNames'])\n",
    "        } for unit in board['units']\n",
    "    ]\n",
    "\n",
    "    return {\n",
    "        'puuid' : board['puuid'],\n",
    "        'placement' : board['placement'],\n",
    "        'level' : board['level'],\n",
    "        'augments' : augments,\n",
    "        'traits' : traits,\n",
    "        'units' : units\n",
    "    }"
   ]
  },
  {
   "cell_type": "code",
   "execution_count": null,
   "metadata": {},
   "outputs": [],
   "source": [
    "def load_boards():\n",
    "    all_boards_path = os.path.join(STATS_DIR, 'all_boards.pkl')\n",
    "\n",
    "    if os.path.exists(all_boards_path):\n",
    "        with open(all_boards_path, 'rb') as file:\n",
    "            return pickle.load(file)\n",
    "\n",
    "    boards = []\n",
    "\n",
    "    for path in glob.glob(os.path.join(MATCH_DIR, '*.pkl')):\n",
    "        with open(path, 'rb') as file:\n",
    "            match = pickle.load(file)\n",
    "        if match is None:\n",
    "            continue\n",
    "        if match['info']['queue_id'] != 1100:\n",
    "            continue\n",
    "        for board in match['info']['participants']:\n",
    "            boards.append(sanitize_board(board))\n",
    "\n",
    "    with open(all_boards_path, 'wb') as file:\n",
    "        pickle.dump(boards, file)\n",
    "\n",
    "    return boards\n",
    "\n",
    "boards = load_boards()\n",
    "\n",
    "print('Num boards:', len(boards))"
   ]
  },
  {
   "cell_type": "code",
   "execution_count": null,
   "metadata": {},
   "outputs": [],
   "source": [
    "def empty_cond(board, *args):\n",
    "    return True,"
   ]
  },
  {
   "cell_type": "code",
   "execution_count": null,
   "metadata": {},
   "outputs": [],
   "source": [
    "def make_and_cond(*conds):\n",
    "    def and_cond(board, *args):\n",
    "        if len(conds) == 0:\n",
    "            return True,\n",
    "        for cond in conds[: -1]:\n",
    "            val, *args = cond(board, *args)\n",
    "            if not val:\n",
    "                return False,\n",
    "        return conds[-1](board, *args)\n",
    "    return and_cond"
   ]
  },
  {
   "cell_type": "code",
   "execution_count": null,
   "metadata": {},
   "outputs": [],
   "source": [
    "def compute_conditional_deltas(variable=empty_cond, conditional=empty_cond, relative_to_false=True):\n",
    "    placements_dict = {}\n",
    "    all_placements = []\n",
    "\n",
    "    for board in boards:\n",
    "        cond_val, *args = conditional(board)\n",
    "        if not cond_val:\n",
    "            continue\n",
    "\n",
    "        placement = board['placement']\n",
    "\n",
    "        all_placements.append(placement)\n",
    "\n",
    "        var_vals, *args = variable(board, *args)\n",
    "\n",
    "        if not isinstance(var_vals, list):\n",
    "            var_vals = [var_vals]\n",
    "        else:\n",
    "            var_vals = list(set(var_vals))\n",
    "\n",
    "        for var_val in var_vals:\n",
    "            placements_dict.setdefault(var_val, []).append(placement)\n",
    "\n",
    "    result_dict = {}\n",
    "\n",
    "    for key, placements in placements_dict.items():\n",
    "        expected = sum(placements) / len(placements)\n",
    "        if relative_to_false:\n",
    "            if len(placements) == len(all_placements):\n",
    "                continue\n",
    "            other_expected = (sum(all_placements) - sum(placements)) / (len(all_placements) - len(placements))\n",
    "        else:\n",
    "            other_expected = sum(all_placements) / len(all_placements)\n",
    "        delta = expected - other_expected\n",
    "        result_dict[key] = delta, len(placements)\n",
    "\n",
    "    return result_dict"
   ]
  },
  {
   "cell_type": "code",
   "execution_count": null,
   "metadata": {},
   "outputs": [],
   "source": [
    "def compute_conditional_delta(*args, **kwargs):\n",
    "    return compute_conditional_deltas(*args, **kwargs).get(True, (0.0, 0))"
   ]
  },
  {
   "cell_type": "code",
   "execution_count": null,
   "metadata": {},
   "outputs": [],
   "source": [
    "def compute_stats(name, options=None, make_option_cond=None, options_cond=None, conditional=empty_cond, min_cnt=50, relative_to_false=True):\n",
    "    deltas_cnts = {}\n",
    "\n",
    "    assert (options is None) == (make_option_cond is None)\n",
    "    assert (options_cond is None) != (make_option_cond is None)\n",
    "\n",
    "    if options_cond:\n",
    "        deltas_cnts = compute_conditional_deltas(\n",
    "            variable=options_cond,\n",
    "            conditional=conditional,\n",
    "            relative_to_false=relative_to_false)\n",
    "    else:\n",
    "        for option in options:\n",
    "            deltas_cnts[option] = compute_conditional_delta(\n",
    "                variable=make_option_cond(option),\n",
    "                conditional=conditional,\n",
    "                relative_to_false=relative_to_false)\n",
    "\n",
    "    options_sorted = list(deltas_cnts.keys())\n",
    "    options_sorted.sort(key=lambda option: deltas_cnts[option][0])\n",
    "\n",
    "    max_len = max([0] + [len(str(option)) for option in options_sorted])\n",
    "\n",
    "    if name is not None:\n",
    "        file = open(stats_path(name), 'w')\n",
    "    else:\n",
    "        file = sys.stdout\n",
    "    \n",
    "    for option in options_sorted:\n",
    "        delta, cnt = deltas_cnts[option]\n",
    "        if cnt >= min_cnt:\n",
    "            print(f'{str(option).ljust(max_len)}  {delta:+.2f}   {cnt:>6}', file=file)\n",
    "\n",
    "    if name is not None:\n",
    "        file.close"
   ]
  },
  {
   "cell_type": "code",
   "execution_count": null,
   "metadata": {},
   "outputs": [],
   "source": [
    "def make_augment_cond(augment):\n",
    "    def augment_cond(board, *args):\n",
    "        return augment in board['augments'],\n",
    "    return augment_cond"
   ]
  },
  {
   "cell_type": "code",
   "execution_count": null,
   "metadata": {},
   "outputs": [],
   "source": [
    "def make_augments_cond():\n",
    "    def augments_cond(board, *args):\n",
    "        return board['augments'],\n",
    "    return augments_cond"
   ]
  },
  {
   "cell_type": "code",
   "execution_count": null,
   "metadata": {},
   "outputs": [],
   "source": [
    "def make_stage_augments_cond(stage):\n",
    "    def augments_cond(board, *args):\n",
    "        rev_idx = 4 - stage\n",
    "        n = len(board['augments'])\n",
    "        if n < rev_idx:\n",
    "            return []\n",
    "        return board['augments'][n - rev_idx],\n",
    "    return augments_cond"
   ]
  },
  {
   "cell_type": "code",
   "execution_count": null,
   "metadata": {},
   "outputs": [],
   "source": [
    "def make_unit_cond(unit_name, min_tier=1, min_items=0):\n",
    "    def unit_cond(board, *args):\n",
    "        for unit in board['units']:\n",
    "            if unit['name'] == unit_name and unit['tier'] >= min_tier and len(unit['items']) >= min_items:\n",
    "                return True, unit\n",
    "        return False,\n",
    "    return unit_cond"
   ]
  },
  {
   "cell_type": "code",
   "execution_count": null,
   "metadata": {},
   "outputs": [],
   "source": [
    "def make_units_cond(min_tier=1, min_items=0):\n",
    "    def units_cond(board, *args):\n",
    "        unit_names = []\n",
    "        for unit in board['units']:\n",
    "            if unit['tier'] >= min_tier and len(unit['items']) >= min_items:\n",
    "                unit_names.append(unit['name'])\n",
    "        return unit_names,\n",
    "    return units_cond"
   ]
  },
  {
   "cell_type": "code",
   "execution_count": null,
   "metadata": {},
   "outputs": [],
   "source": [
    "def make_item_cond(item):\n",
    "    def item_cond(board, unit, *args):\n",
    "        return item in unit['items'], unit\n",
    "    return item_cond"
   ]
  },
  {
   "cell_type": "code",
   "execution_count": null,
   "metadata": {},
   "outputs": [],
   "source": [
    "def make_items_cond():\n",
    "    def items_cond(board, unit, *args):\n",
    "        return unit['items'],\n",
    "    return items_cond"
   ]
  },
  {
   "cell_type": "code",
   "execution_count": null,
   "metadata": {},
   "outputs": [],
   "source": [
    "def make_traits_cond(per_tier=True):\n",
    "    def trait_cond(board, *args):\n",
    "        if per_tier:\n",
    "            return list(f'{trait} {tier}' for trait, tier in board['traits'].items()),\n",
    "        else:\n",
    "            return list(board['traits'].keys()),\n",
    "    return trait_cond"
   ]
  },
  {
   "cell_type": "code",
   "execution_count": null,
   "metadata": {},
   "outputs": [],
   "source": [
    "compute_stats(None, options_cond=make_stage_augments_cond())"
   ]
  },
  {
   "cell_type": "code",
   "execution_count": null,
   "metadata": {},
   "outputs": [],
   "source": [
    "compute_stats('augments', options_cond=make_augments_cond())"
   ]
  },
  {
   "cell_type": "code",
   "execution_count": null,
   "metadata": {},
   "outputs": [],
   "source": [
    "compute_stats('units', options_cond=make_units_cond())"
   ]
  },
  {
   "cell_type": "code",
   "execution_count": null,
   "metadata": {},
   "outputs": [],
   "source": [
    "compute_stats('traits', options_cond=make_traits_cond())"
   ]
  },
  {
   "cell_type": "code",
   "execution_count": null,
   "metadata": {},
   "outputs": [],
   "source": [
    "for unit_name in units_list:\n",
    "    compute_stats(('per_unit', f'{unit_name} augments'), options_cond=make_augments_cond(), conditional=make_unit_cond(unit_name, min_items=3))"
   ]
  },
  {
   "cell_type": "code",
   "execution_count": null,
   "metadata": {},
   "outputs": [],
   "source": [
    "for unit_name in units_list:\n",
    "    compute_stats(('per_unit', f'{unit_name} items'), options_cond=make_items_cond(), conditional=make_unit_cond(unit_name, min_items=3))"
   ]
  },
  {
   "cell_type": "code",
   "execution_count": null,
   "metadata": {},
   "outputs": [],
   "source": [
    "for unit_name in units_list:\n",
    "    compute_stats(('per_unit', f'{unit_name} traits'), options_cond=make_traits_cond(), conditional=make_unit_cond(unit_name, min_items=3))"
   ]
  }
 ],
 "metadata": {
  "kernelspec": {
   "display_name": "Python 3",
   "language": "python",
   "name": "python3"
  },
  "language_info": {
   "codemirror_mode": {
    "name": "ipython",
    "version": 3
   },
   "file_extension": ".py",
   "mimetype": "text/x-python",
   "name": "python",
   "nbconvert_exporter": "python",
   "pygments_lexer": "ipython3",
   "version": "3.11.0"
  },
  "orig_nbformat": 4
 },
 "nbformat": 4,
 "nbformat_minor": 2
}
